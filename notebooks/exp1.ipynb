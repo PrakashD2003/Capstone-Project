{
 "cells": [
  {
   "cell_type": "code",
   "execution_count": 1,
   "id": "f332c964",
   "metadata": {},
   "outputs": [
    {
     "name": "stderr",
     "output_type": "stream",
     "text": [
      "[nltk_data] Downloading package wordnet to\n",
      "[nltk_data]     C:\\Users\\praka\\AppData\\Roaming\\nltk_data...\n",
      "[nltk_data]   Package wordnet is already up-to-date!\n",
      "[nltk_data] Downloading package omw-1.4 to\n",
      "[nltk_data]     C:\\Users\\praka\\AppData\\Roaming\\nltk_data...\n",
      "[nltk_data]   Package omw-1.4 is already up-to-date!\n"
     ]
    },
    {
     "data": {
      "text/plain": [
       "True"
      ]
     },
     "execution_count": 1,
     "metadata": {},
     "output_type": "execute_result"
    }
   ],
   "source": [
    "import pandas as pd\n",
    "from sklearn.feature_extraction.text import CountVectorizer\n",
    "from sklearn.model_selection import train_test_split\n",
    "import re\n",
    "import string\n",
    "import nltk\n",
    "from nltk.corpus import stopwords\n",
    "from nltk.stem import WordNetLemmatizer\n",
    "\n",
    "# first time only—downloads the WordNet data to your default nltk_data folder\n",
    "nltk.download('wordnet')    \n",
    "# also grab the multilingual word database (often needed)\n",
    "nltk.download('omw-1.4')"
   ]
  },
  {
   "cell_type": "code",
   "execution_count": 2,
   "id": "d1e3d81e",
   "metadata": {},
   "outputs": [
    {
     "data": {
      "text/html": [
       "<div>\n",
       "<style scoped>\n",
       "    .dataframe tbody tr th:only-of-type {\n",
       "        vertical-align: middle;\n",
       "    }\n",
       "\n",
       "    .dataframe tbody tr th {\n",
       "        vertical-align: top;\n",
       "    }\n",
       "\n",
       "    .dataframe thead th {\n",
       "        text-align: right;\n",
       "    }\n",
       "</style>\n",
       "<table border=\"1\" class=\"dataframe\">\n",
       "  <thead>\n",
       "    <tr style=\"text-align: right;\">\n",
       "      <th></th>\n",
       "      <th>review</th>\n",
       "      <th>sentiment</th>\n",
       "    </tr>\n",
       "  </thead>\n",
       "  <tbody>\n",
       "    <tr>\n",
       "      <th>42086</th>\n",
       "      <td>This film is my favorite comedy of all time an...</td>\n",
       "      <td>positive</td>\n",
       "    </tr>\n",
       "    <tr>\n",
       "      <th>12986</th>\n",
       "      <td>Actually, I am not narrating the main plot in ...</td>\n",
       "      <td>negative</td>\n",
       "    </tr>\n",
       "    <tr>\n",
       "      <th>2951</th>\n",
       "      <td>It seems like an exciting prospect, a modern-d...</td>\n",
       "      <td>negative</td>\n",
       "    </tr>\n",
       "    <tr>\n",
       "      <th>49157</th>\n",
       "      <td>This is one of the best presentations of the 6...</td>\n",
       "      <td>positive</td>\n",
       "    </tr>\n",
       "    <tr>\n",
       "      <th>26537</th>\n",
       "      <td>I went to the cinema with two of my friends, a...</td>\n",
       "      <td>positive</td>\n",
       "    </tr>\n",
       "  </tbody>\n",
       "</table>\n",
       "</div>"
      ],
      "text/plain": [
       "                                                  review sentiment\n",
       "42086  This film is my favorite comedy of all time an...  positive\n",
       "12986  Actually, I am not narrating the main plot in ...  negative\n",
       "2951   It seems like an exciting prospect, a modern-d...  negative\n",
       "49157  This is one of the best presentations of the 6...  positive\n",
       "26537  I went to the cinema with two of my friends, a...  positive"
      ]
     },
     "execution_count": 2,
     "metadata": {},
     "output_type": "execute_result"
    }
   ],
   "source": [
    "df = pd.read_csv(filepath_or_buffer=r\"D:\\Programming\\MLOPS ROOT\\Capstone-Project\\notebooks\\IMDB Dataset.csv\")\n",
    "df = df.sample(1000)\n",
    "df.to_csv(r\"D:\\Programming\\MLOPS ROOT\\Capstone-Project\\notebooks\\sample-data.csv\")\n",
    "df.head()"
   ]
  },
  {
   "cell_type": "markdown",
   "id": "58efb44e",
   "metadata": {},
   "source": [
    "# Data Preprocessing"
   ]
  },
  {
   "cell_type": "code",
   "execution_count": 3,
   "id": "d7db8b71",
   "metadata": {},
   "outputs": [],
   "source": [
    "\n",
    "# Define text preprocessing functions\n",
    "def lemmatization(text):\n",
    "    \"\"\"\n",
    "    Lemmatize the text\n",
    "    Think of lemmatization like finding a word’s “dictionary form.” It’s like this:\n",
    "\n",
    "    * You start with a word that might be changed by tense, number, or form:\n",
    "\n",
    "    * running, ran, runs → run\n",
    "    * better → good\n",
    "    * geese → goose\n",
    "\n",
    "    * A lemmatizer looks up or reasons what the base word is (the “lemma”) instead of just chopping off endings.\n",
    "\n",
    "    So, in plain terms: **lemmatization** turns words into their simplest, real-word form so that all the different versions (“runs,” “running,” “ran”) become just “run.” That way, when you analyze text, you treat them as the same word.\n",
    "    \"\"\"\n",
    "    lemmatizer = WordNetLemmatizer()\n",
    "    text = text.split()\n",
    "    text = [lemmatizer.lemmatize(word) for word in text]\n",
    "    return \" \".join(text)\n",
    "\n",
    "def remove_stop_words(text):\n",
    "    \"\"\"Remove stop words from the text.\n",
    "    Stop words are the most common words in a language that carry very little semantic meaning \n",
    "    on their own—words like “a,” “an,” “the,” “in,” “on,” “and,” “but,” etc. \n",
    "    In many natural-language processing (NLP) tasks, these words are removed (or “filtered out”) before analysis\n",
    "    to reduce noise and focus on the more meaningful words.\n",
    "    \"\"\"\n",
    "    stop_word = set(stopwords.words(\"english\")) \n",
    "    text = [word for word in text.split() if word not in stop_word]\n",
    "    return \" \".join(text)\n",
    "\n",
    "def remove_numbers(text):\n",
    "    \"\"\"Remove numbers from the text.\"\"\"\n",
    "    return \" \".join([word for word in text.split() if not word.isdigit()])    \n",
    "\n",
    "def lower_case(text):\n",
    "    \"\"\"Convert text to lower case.\"\"\"\n",
    "    text = [word.lower() for word in text.split()]\n",
    "    return \" \".join(text)\n",
    "\n",
    "def remove_urls(text):\n",
    "    \"\"\"Remove URLs from the text.\"\"\"\n",
    "    url_pattern = re.compile(r'https?://\\S+|www\\.\\S+')\n",
    "    return url_pattern.sub(r'', text)\n",
    "\n",
    "def normalize_text(df):\n",
    "    \"\"\"Normalize the text data.\"\"\"\n",
    "    try:\n",
    "        df['review'] = df['review'].apply(remove_stop_words)\n",
    "        df['review'] = df['review'].apply(remove_numbers)\n",
    "        df['review'] = df['review'].apply(remove_urls)\n",
    "        df['review'] = df['review'].apply(lower_case)\n",
    "        df['review'] = df['review'].apply(lemmatization)\n",
    "        return df\n",
    "    except Exception as e:\n",
    "        print(f'Error during text normalization: {e}')\n",
    "        raise \n",
    "def normalize_text_wt_rm_numbers(df):\n",
    "    \"\"\"Normalize the text data.\"\"\"\n",
    "    try:\n",
    "        df['review'] = df['review'].apply(remove_stop_words)\n",
    "        df['review'] = df['review'].apply(remove_numbers)\n",
    "        df['review'] = df['review'].apply(remove_urls)\n",
    "        df['review'] = df['review'].apply(lower_case)\n",
    "        df['review'] = df['review'].apply(lemmatization)\n",
    "        return df\n",
    "    except Exception as e:\n",
    "        print(f'Error during text normalization: {e}')\n",
    "        raise \n",
    "\n"
   ]
  },
  {
   "cell_type": "code",
   "execution_count": 4,
   "id": "1be32537",
   "metadata": {},
   "outputs": [
    {
     "data": {
      "text/html": [
       "<div>\n",
       "<style scoped>\n",
       "    .dataframe tbody tr th:only-of-type {\n",
       "        vertical-align: middle;\n",
       "    }\n",
       "\n",
       "    .dataframe tbody tr th {\n",
       "        vertical-align: top;\n",
       "    }\n",
       "\n",
       "    .dataframe thead th {\n",
       "        text-align: right;\n",
       "    }\n",
       "</style>\n",
       "<table border=\"1\" class=\"dataframe\">\n",
       "  <thead>\n",
       "    <tr style=\"text-align: right;\">\n",
       "      <th></th>\n",
       "      <th>review</th>\n",
       "      <th>sentiment</th>\n",
       "    </tr>\n",
       "  </thead>\n",
       "  <tbody>\n",
       "    <tr>\n",
       "      <th>42086</th>\n",
       "      <td>this film favorite comedy time i seen lot come...</td>\n",
       "      <td>positive</td>\n",
       "    </tr>\n",
       "    <tr>\n",
       "      <th>12986</th>\n",
       "      <td>actually, i narrating main plot comment 2-3 se...</td>\n",
       "      <td>negative</td>\n",
       "    </tr>\n",
       "    <tr>\n",
       "      <th>2951</th>\n",
       "      <td>it seems like exciting prospect, modern-dress ...</td>\n",
       "      <td>negative</td>\n",
       "    </tr>\n",
       "    <tr>\n",
       "      <th>49157</th>\n",
       "      <td>this one best presentation 60's put film. arth...</td>\n",
       "      <td>positive</td>\n",
       "    </tr>\n",
       "    <tr>\n",
       "      <th>26537</th>\n",
       "      <td>i went cinema two friends, picked movie hat, t...</td>\n",
       "      <td>positive</td>\n",
       "    </tr>\n",
       "  </tbody>\n",
       "</table>\n",
       "</div>"
      ],
      "text/plain": [
       "                                                  review sentiment\n",
       "42086  this film favorite comedy time i seen lot come...  positive\n",
       "12986  actually, i narrating main plot comment 2-3 se...  negative\n",
       "2951   it seems like exciting prospect, modern-dress ...  negative\n",
       "49157  this one best presentation 60's put film. arth...  positive\n",
       "26537  i went cinema two friends, picked movie hat, t...  positive"
      ]
     },
     "execution_count": 4,
     "metadata": {},
     "output_type": "execute_result"
    }
   ],
   "source": [
    "# Preproccessing text(Cleaning the text)\n",
    "df = normalize_text(df)\n",
    "# df = normalize_text_wt_rm_numbers(df=df)\n",
    "df.head()\n"
   ]
  },
  {
   "cell_type": "code",
   "execution_count": 5,
   "id": "29c1af31",
   "metadata": {},
   "outputs": [
    {
     "data": {
      "text/plain": [
       "sentiment\n",
       "negative    515\n",
       "positive    485\n",
       "Name: count, dtype: int64"
      ]
     },
     "execution_count": 5,
     "metadata": {},
     "output_type": "execute_result"
    }
   ],
   "source": [
    "# Checking distribution of data\n",
    "df['sentiment'].value_counts()"
   ]
  },
  {
   "cell_type": "code",
   "execution_count": 6,
   "id": "6bf55e8b",
   "metadata": {},
   "outputs": [],
   "source": [
    "# Eliminating any other category than 'positive' and 'negative'\n",
    "x = df['sentiment'].isin(['positive','negative'])\n",
    "df = df[x]"
   ]
  },
  {
   "cell_type": "code",
   "execution_count": 7,
   "id": "b46a4d7e",
   "metadata": {},
   "outputs": [
    {
     "data": {
      "text/html": [
       "<div>\n",
       "<style scoped>\n",
       "    .dataframe tbody tr th:only-of-type {\n",
       "        vertical-align: middle;\n",
       "    }\n",
       "\n",
       "    .dataframe tbody tr th {\n",
       "        vertical-align: top;\n",
       "    }\n",
       "\n",
       "    .dataframe thead th {\n",
       "        text-align: right;\n",
       "    }\n",
       "</style>\n",
       "<table border=\"1\" class=\"dataframe\">\n",
       "  <thead>\n",
       "    <tr style=\"text-align: right;\">\n",
       "      <th></th>\n",
       "      <th>review</th>\n",
       "      <th>sentiment</th>\n",
       "    </tr>\n",
       "  </thead>\n",
       "  <tbody>\n",
       "    <tr>\n",
       "      <th>42086</th>\n",
       "      <td>this film favorite comedy time i seen lot come...</td>\n",
       "      <td>1</td>\n",
       "    </tr>\n",
       "    <tr>\n",
       "      <th>12986</th>\n",
       "      <td>actually, i narrating main plot comment 2-3 se...</td>\n",
       "      <td>0</td>\n",
       "    </tr>\n",
       "    <tr>\n",
       "      <th>2951</th>\n",
       "      <td>it seems like exciting prospect, modern-dress ...</td>\n",
       "      <td>0</td>\n",
       "    </tr>\n",
       "    <tr>\n",
       "      <th>49157</th>\n",
       "      <td>this one best presentation 60's put film. arth...</td>\n",
       "      <td>1</td>\n",
       "    </tr>\n",
       "    <tr>\n",
       "      <th>26537</th>\n",
       "      <td>i went cinema two friends, picked movie hat, t...</td>\n",
       "      <td>1</td>\n",
       "    </tr>\n",
       "  </tbody>\n",
       "</table>\n",
       "</div>"
      ],
      "text/plain": [
       "                                                  review  sentiment\n",
       "42086  this film favorite comedy time i seen lot come...          1\n",
       "12986  actually, i narrating main plot comment 2-3 se...          0\n",
       "2951   it seems like exciting prospect, modern-dress ...          0\n",
       "49157  this one best presentation 60's put film. arth...          1\n",
       "26537  i went cinema two friends, picked movie hat, t...          1"
      ]
     },
     "execution_count": 7,
     "metadata": {},
     "output_type": "execute_result"
    }
   ],
   "source": [
    "# Encoding 'positve'to '1' and 'negative' to '0'\n",
    "df['sentiment'] = df['sentiment'].map({'positive':1,'negative':0})\n",
    "df.head()"
   ]
  },
  {
   "cell_type": "code",
   "execution_count": 8,
   "id": "e9cf184c",
   "metadata": {},
   "outputs": [
    {
     "data": {
      "text/plain": [
       "review       0\n",
       "sentiment    0\n",
       "dtype: int64"
      ]
     },
     "execution_count": 8,
     "metadata": {},
     "output_type": "execute_result"
    }
   ],
   "source": [
    "# Checking null values\n",
    "df.isnull().sum()"
   ]
  },
  {
   "cell_type": "code",
   "execution_count": 9,
   "id": "954fae8a",
   "metadata": {},
   "outputs": [],
   "source": [
    "## Vectorization\n",
    "\n",
    "\n",
    "# In the context of text-based machine learning, **vectorization** means turning words or whole \n",
    "# documents into numeric vectors (lists of numbers) so that algorithms—which only understand numbers—can work on them.\n",
    "\n",
    "# ---\n",
    "\n",
    "# ### Why vectorize?\n",
    "\n",
    "# * Computers can’t do math on raw text.\n",
    "# * By mapping text to numbers, you can feed it into models like logistic regression, SVMs, or neural networks.\n",
    "\n",
    "# ---\n",
    "\n",
    "# ### Common approaches\n",
    "\n",
    "# 1. **Bag-of-Words (BoW)**\n",
    "\n",
    "#    * Build a vocabulary of all unique words in your corpus.\n",
    "#    * Represent each document as a vector whose length is the vocab size, where each position \n",
    "#      counts how often that vocab word appears.\n",
    "#    * Example for vocab `[“cat”, “dog”, “mouse”]`:\n",
    "\n",
    "#      * “cat and dog” → `[1, 1, 0]`\n",
    "#      * “dog dog dog” → `[0, 3, 0]`\n",
    "\n",
    "# 2. **TF-IDF (Term Frequency–Inverse Document Frequency)**\n",
    "\n",
    "#    * Similar to BoW, but weights each count by how “rare” a word is across all documents.\n",
    "#    * Common words (“the”, “and”) get down-weighted, rarer words get up-weighted.\n",
    "\n",
    "# 3. **Word Embeddings**\n",
    "\n",
    "#    * Pretrained methods (Word2Vec, GloVe, fastText) map each word to a dense, low-dimensional \n",
    "#      vector (e.g. 100–300 dimensions) that captures semantic similarity.\n",
    "#    * “king” and “queen” end up close together in this vector space.\n",
    "\n",
    "# 4. **Document Embeddings**\n",
    "\n",
    "#    * Extend embeddings to whole sentences or documents (Doc2Vec, averaging word vectors, transformer \n",
    "#      outputs like BERT’s CLS token).\n",
    "\n",
    "# ### In a nutshell\n",
    "\n",
    "# **Vectorization** converts text into a structured, numeric form—whether simple counts, weighted scores,\n",
    "#   or dense embeddings—so you can apply mathematical models to understand and predict from natural language.\n",
    "\n",
    "vectorizer = CountVectorizer(max_features=100)\n",
    "X = vectorizer.fit_transform(df['review'])\n",
    "Y = df['sentiment']"
   ]
  },
  {
   "cell_type": "code",
   "execution_count": 10,
   "id": "02398603",
   "metadata": {},
   "outputs": [],
   "source": [
    "# Train-Test-Split\n",
    "X_train, X_test, Y_train, Y_test = train_test_split(X, Y, test_size=0.25, random_state=42)"
   ]
  },
  {
   "cell_type": "code",
   "execution_count": 11,
   "id": "b033a8eb",
   "metadata": {},
   "outputs": [
    {
     "data": {
      "text/html": [
       "<pre style=\"white-space:pre;overflow-x:auto;line-height:normal;font-family:Menlo,'DejaVu Sans Mono',consolas,'Courier New',monospace\">Accessing as PrakashD2003\n",
       "</pre>\n"
      ],
      "text/plain": [
       "Accessing as PrakashD2003\n"
      ]
     },
     "metadata": {},
     "output_type": "display_data"
    },
    {
     "data": {
      "text/html": [
       "<pre style=\"white-space:pre;overflow-x:auto;line-height:normal;font-family:Menlo,'DejaVu Sans Mono',consolas,'Courier New',monospace\">Initialized MLflow to track repo <span style=\"color: #008000; text-decoration-color: #008000\">\"PrakashD2003/Capstone-Project\"</span>\n",
       "</pre>\n"
      ],
      "text/plain": [
       "Initialized MLflow to track repo \u001b[32m\"PrakashD2003/Capstone-Project\"\u001b[0m\n"
      ]
     },
     "metadata": {},
     "output_type": "display_data"
    },
    {
     "data": {
      "text/html": [
       "<pre style=\"white-space:pre;overflow-x:auto;line-height:normal;font-family:Menlo,'DejaVu Sans Mono',consolas,'Courier New',monospace\">Repository PrakashD2003/Capstone-Project initialized!\n",
       "</pre>\n"
      ],
      "text/plain": [
       "Repository PrakashD2003/Capstone-Project initialized!\n"
      ]
     },
     "metadata": {},
     "output_type": "display_data"
    },
    {
     "data": {
      "text/plain": [
       "<Experiment: artifact_location='mlflow-artifacts:/10511b97138d4cceaf9b0387aa4d28d8', creation_time=1746296173786, experiment_id='0', last_update_time=1746296173786, lifecycle_stage='active', name='Logistic Regression Baseline', tags={}>"
      ]
     },
     "execution_count": 11,
     "metadata": {},
     "output_type": "execute_result"
    }
   ],
   "source": [
    "# Setting up experimentation with Dagshub and Mlflow\n",
    "import dagshub\n",
    "import mlflow\n",
    "import mlflow.sklearn\n",
    "from var import MLFLOW_TRACKING_URI, DAGSHUB_REPO_OWNER, DAGSHUB_REPO_NAME\n",
    "mlflow_uri = MLFLOW_TRACKING_URI\n",
    "repo_owner = DAGSHUB_REPO_OWNER\n",
    "repo_name = DAGSHUB_REPO_NAME\n",
    "mlflow.set_tracking_uri(mlflow_uri)# Setting URI of remote tracking server\n",
    "dagshub.init(repo_owner=repo_owner,repo_name=repo_name,mlflow=True)\n",
    "mlflow.set_experiment(\"Logistic Regression Baseline\")\n"
   ]
  },
  {
   "cell_type": "code",
   "execution_count": 12,
   "id": "fa1b80c9",
   "metadata": {},
   "outputs": [
    {
     "name": "stderr",
     "output_type": "stream",
     "text": [
      "2025-05-12 21:34:09,904 - INFO - Starting Mlflow run...\n",
      "2025-05-12 21:34:10,389 - INFO - Logging Preproccessing Parameters...\n",
      "2025-05-12 21:34:10,770 - INFO - Initializing Logistic Regression model...\n",
      "2025-05-12 21:34:10,771 - INFO - Fitting the model...\n",
      "2025-05-12 21:34:10,796 - INFO - Model training complete.\n",
      "2025-05-12 21:34:10,797 - INFO - Logging model parameters...\n",
      "2025-05-12 21:34:11,172 - INFO - Making Prediction\n",
      "2025-05-12 21:34:11,173 - INFO - Calculating evaluation metrics...\n",
      "2025-05-12 21:34:11,179 - INFO - Logging evaluation metrics...\n",
      "2025-05-12 21:34:11,588 - INFO - Saving and logging the model...\n",
      "2025/05/12 21:34:17 WARNING mlflow.models.model: Model logged without a signature and input example. Please set `input_example` parameter when logging the model to auto infer the model signature.\n",
      "2025-05-12 21:34:21,109 - INFO - Model training and logging completed in 10.72 seconds.\n",
      "2025-05-12 21:34:21,110 - INFO - Saving this notebook as artifact...\n",
      "2025-05-12 21:34:21,633 - INFO - Accuracy: 0.688\n",
      "2025-05-12 21:34:21,634 - INFO - Precision: 0.6511627906976745\n",
      "2025-05-12 21:34:21,635 - INFO - Recall: 0.717948717948718\n",
      "2025-05-12 21:34:21,635 - INFO - F1 Score: 0.6829268292682927\n"
     ]
    },
    {
     "name": "stdout",
     "output_type": "stream",
     "text": [
      "🏃 View run salty-foal-318 at: https://dagshub.com/PrakashD2003/Capstone-Project.mlflow/#/experiments/0/runs/906191124d3247609696ef3d2393b9f6\n",
      "🧪 View experiment at: https://dagshub.com/PrakashD2003/Capstone-Project.mlflow/#/experiments/0\n"
     ]
    }
   ],
   "source": [
    "import logging\n",
    "import time\n",
    "import os\n",
    "from sklearn.linear_model import LogisticRegression\n",
    "from sklearn.metrics import accuracy_score, precision_score, recall_score, f1_score\n",
    "\n",
    "# Congigure basic logger\n",
    "logging.basicConfig(level=logging.INFO,format=\"%(asctime)s - %(levelname)s - %(message)s\")\n",
    "logging.info(\"Starting Mlflow run...\")\n",
    "\n",
    "with mlflow.start_run():\n",
    "    try:\n",
    "        start_time = time.time()\n",
    "        logging.info(\"Logging Preproccessing Parameters...\")\n",
    "        mlflow.log_params(params={\"vectorizer\":\"Bag of Word\",\n",
    "                                  \"max_features_vectorizer\":100,\n",
    "                                  \"remove_numbers\":True,\n",
    "                                  \"test_size\":0.25\n",
    "                                  })\n",
    "        \n",
    "        logging.info(\"Initializing Logistic Regression model...\")\n",
    "        model  = LogisticRegression(max_iter=1000)\n",
    "\n",
    "        logging.info(\"Fitting the model...\")\n",
    "        model.fit(X_train, Y_train)\n",
    "        logging.info(\"Model training complete.\")\n",
    "        logging.info(\"Logging model parameters...\")\n",
    "        mlflow.log_params(params={\"model\":\"Logistic Regression\",\n",
    "                                  \"max_iter_logistic_reg\":1000})\n",
    "        \n",
    "        logging.info(\"Making Prediction\")\n",
    "        Y_pred = model.predict(X_test)\n",
    "\n",
    "        logging.info(\"Calculating evaluation metrics...\")\n",
    "        accuracy = accuracy_score(y_true=Y_test,y_pred=Y_pred)\n",
    "        precision = precision_score(y_true=Y_test,y_pred=Y_pred)\n",
    "        recall = recall_score(y_true=Y_test,y_pred=Y_pred)\n",
    "        f1 = f1_score(y_true=Y_test,y_pred=Y_pred)\n",
    "\n",
    "        logging.info(\"Logging evaluation metrics...\")\n",
    "        mlflow.log_metrics(metrics={\"Accuracy_Score\":accuracy,\n",
    "                                    \"Precision_Score\":precision,\n",
    "                                    \"Recall_Score\":recall,\n",
    "                                    \"F1_Score\":f1})\n",
    "        \n",
    "        logging.info(\"Saving and logging the model...\")\n",
    "        mlflow.sklearn.log_model(model, \"model\")\n",
    "\n",
    "        # Log execution time\n",
    "        end_time = time.time()\n",
    "        logging.info(f\"Model training and logging completed in {end_time - start_time:.2f} seconds.\")\n",
    "\n",
    "        logging.info(\"Saving this notebook as artifact...\")\n",
    "        notebook_path = \"exp1.ipynb\"\n",
    "        mlflow.log_artifact(local_path= notebook_path, artifact_path=\"notebooks\")\n",
    "\n",
    "        # Print the results for verification\n",
    "        logging.info(f\"Accuracy: {accuracy}\")\n",
    "        logging.info(f\"Precision: {precision}\")\n",
    "        logging.info(f\"Recall: {recall}\")\n",
    "        logging.info(f\"F1 Score: {f1}\")\n",
    "\n",
    "    except Exception as e:\n",
    "        logging.error(f\"An error occurred: {e}\", exc_info=True)\n"
   ]
  }
 ],
 "metadata": {
  "kernelspec": {
   "display_name": "Capston-Project-ENV",
   "language": "python",
   "name": "python3"
  },
  "language_info": {
   "codemirror_mode": {
    "name": "ipython",
    "version": 3
   },
   "file_extension": ".py",
   "mimetype": "text/x-python",
   "name": "python",
   "nbconvert_exporter": "python",
   "pygments_lexer": "ipython3",
   "version": "3.12.7"
  }
 },
 "nbformat": 4,
 "nbformat_minor": 5
}
